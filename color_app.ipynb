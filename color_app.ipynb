{
 "cells": [
  {
   "cell_type": "code",
   "execution_count": 1,
   "metadata": {},
   "outputs": [],
   "source": [
    "import pandas as pd\n",
    "import numpy as np\n",
    "from sklearn.cluster import KMeans\n",
    "import matplotlib.pyplot as plt\n",
    "from PIL import Image"
   ]
  },
  {
   "cell_type": "code",
   "execution_count": 209,
   "metadata": {},
   "outputs": [],
   "source": [
    "fname=\"../samples/pika.jpg\"\n",
    "N_cols=5\n",
    "class FirstFlag:\n",
    "    def __init__(self):\n",
    "        self.flag = True\n",
    "    def __call__(self):\n",
    "        if self.flag:\n",
    "            self.flag = False\n",
    "            return True\n",
    "        else:\n",
    "            return False\n",
    "flag=FirstFlag()"
   ]
  },
  {
   "cell_type": "markdown",
   "metadata": {},
   "source": [
    "関数とか諸々"
   ]
  },
  {
   "cell_type": "code",
   "execution_count": 210,
   "metadata": {},
   "outputs": [],
   "source": [
    "def decopri(txt):\n",
    "    print(\"-\"*80)\n",
    "    if len(str(txt))<80:\n",
    "        print(\" \"*int((80-len(str(txt)))/2)+str(txt)+\" \"*int((80-len(str(txt)))/2))\n",
    "    else:\n",
    "        print(str(txt))\n",
    "    print(\"-\" * 80)\n",
    "    \n",
    "def rgb2hex(rgb):\n",
    "    cop=rgb.copy()\n",
    "    li=[\"a\",\"b\",\"c\",\"d\",\"e\",\"f\"]\n",
    "    hex=\"#\"\n",
    "    for i in range(3):\n",
    "        if cop[i]/16>=10:\n",
    "            hex+=li[int(cop[i]/16)-10]\n",
    "            cop[i]%=16\n",
    "        else:\n",
    "            hex+=str(int(cop[i]/16))\n",
    "            cop[i]%=16\n",
    "        if cop[i]>=10:\n",
    "            hex+=li[cop[i]-10]\n",
    "        else:\n",
    "            hex+=str(cop[i])\n",
    "    return hex\n",
    "\n",
    "def img2df(input_img):\n",
    "    im_ar=np.asarray(input_img)\n",
    "    x,y,z=im_ar.shape[0],im_ar.shape[1],im_ar.shape[2]\n",
    "    df=(pd.DataFrame(im_ar.reshape([x*y,z]))).rename(columns={0:\"r\",1:\"g\",2:\"b\"})\n",
    "    decopri(\"img２df completed successfully\")\n",
    "    return df,x,y\n",
    "\n",
    "def color_grouping(df,N):\n",
    "    pred = KMeans(n_clusters=N).fit_predict(np.array(df))\n",
    "    df[\"group\"]=pred\n",
    "    decopri(\"color_grouping completed successfully\")\n",
    "    return df\n",
    "def coltable(df,N):\n",
    "    col_df=[]\n",
    "    for i in range(N):\n",
    "        data_len=len(df[df[\"group\"]==i])\n",
    "        rgb=[]\n",
    "        for j in range(3):\n",
    "            vc=df[df[\"group\"]==i][cols[j]].value_counts()\n",
    "            if np.array(vc.head(1))[0]/data_len>=0.5:\n",
    "                rgb.append(vc.keys()[0])\n",
    "            else :\n",
    "                rgb.append(int(df[df[\"group\"]==i][cols[j]].mean()))\n",
    "#         col_df.append(rgb2hex(rgb))\n",
    "        col_df.append(rgb)\n",
    "    decopri(\"coltable completed successfully\")\n",
    "    col_df=pd.DataFrame(col_df)\n",
    "    return col_df\n",
    "            \n",
    "def rgbdf2hexdf(rgb_df):\n",
    "    hexli=[]\n",
    "    for i in range(len(rgb_df)):\n",
    "        hexli.append( rgb2hex(rgb_df.loc[i]))\n",
    "    decopri(\"rgb2hex completed successfully\")\n",
    "    return pd.DataFrame(hexli)"
   ]
  },
  {
   "cell_type": "code",
   "execution_count": 211,
   "metadata": {},
   "outputs": [
    {
     "ename": "FileNotFoundError",
     "evalue": "[Errno 2] No such file or directory: '../samples/pika.jpg'",
     "output_type": "error",
     "traceback": [
      "\u001b[0;31m---------------------------------------------------------------------------\u001b[0m",
      "\u001b[0;31mFileNotFoundError\u001b[0m                         Traceback (most recent call last)",
      "\u001b[0;32m<ipython-input-211-70531284cc91>\u001b[0m in \u001b[0;36m<module>\u001b[0;34m\u001b[0m\n\u001b[0;32m----> 1\u001b[0;31m \u001b[0mimg\u001b[0m\u001b[0;34m=\u001b[0m\u001b[0mImage\u001b[0m\u001b[0;34m.\u001b[0m\u001b[0mopen\u001b[0m\u001b[0;34m(\u001b[0m\u001b[0mfname\u001b[0m\u001b[0;34m)\u001b[0m\u001b[0;34m\u001b[0m\u001b[0;34m\u001b[0m\u001b[0m\n\u001b[0m\u001b[1;32m      2\u001b[0m \u001b[0mcols\u001b[0m\u001b[0;34m=\u001b[0m\u001b[0;34m[\u001b[0m\u001b[0;34m\"r\"\u001b[0m\u001b[0;34m,\u001b[0m\u001b[0;34m\"g\"\u001b[0m\u001b[0;34m,\u001b[0m\u001b[0;34m\"b\"\u001b[0m\u001b[0;34m]\u001b[0m\u001b[0;34m\u001b[0m\u001b[0;34m\u001b[0m\u001b[0m\n\u001b[1;32m      3\u001b[0m \u001b[0mimg_df\u001b[0m\u001b[0;34m,\u001b[0m\u001b[0mx\u001b[0m\u001b[0;34m,\u001b[0m\u001b[0my\u001b[0m\u001b[0;34m=\u001b[0m\u001b[0mimg2df\u001b[0m\u001b[0;34m(\u001b[0m\u001b[0mimg\u001b[0m\u001b[0;34m)\u001b[0m\u001b[0;34m\u001b[0m\u001b[0;34m\u001b[0m\u001b[0m\n\u001b[1;32m      4\u001b[0m \u001b[0;32mif\u001b[0m \u001b[0mflag\u001b[0m\u001b[0;34m(\u001b[0m\u001b[0;34m)\u001b[0m\u001b[0;34m:\u001b[0m\u001b[0;34m\u001b[0m\u001b[0;34m\u001b[0m\u001b[0m\n\u001b[1;32m      5\u001b[0m     \u001b[0mimg_df\u001b[0m\u001b[0;34m=\u001b[0m\u001b[0mcolor_grouping\u001b[0m\u001b[0;34m(\u001b[0m\u001b[0mimg_df\u001b[0m\u001b[0;34m,\u001b[0m\u001b[0mN_cols\u001b[0m\u001b[0;34m)\u001b[0m\u001b[0;34m\u001b[0m\u001b[0;34m\u001b[0m\u001b[0m\n",
      "\u001b[0;32m/opt/anaconda3/lib/python3.7/site-packages/PIL/Image.py\u001b[0m in \u001b[0;36mopen\u001b[0;34m(fp, mode)\u001b[0m\n\u001b[1;32m   2807\u001b[0m \u001b[0;34m\u001b[0m\u001b[0m\n\u001b[1;32m   2808\u001b[0m     \u001b[0;32mif\u001b[0m \u001b[0mfilename\u001b[0m\u001b[0;34m:\u001b[0m\u001b[0;34m\u001b[0m\u001b[0;34m\u001b[0m\u001b[0m\n\u001b[0;32m-> 2809\u001b[0;31m         \u001b[0mfp\u001b[0m \u001b[0;34m=\u001b[0m \u001b[0mbuiltins\u001b[0m\u001b[0;34m.\u001b[0m\u001b[0mopen\u001b[0m\u001b[0;34m(\u001b[0m\u001b[0mfilename\u001b[0m\u001b[0;34m,\u001b[0m \u001b[0;34m\"rb\"\u001b[0m\u001b[0;34m)\u001b[0m\u001b[0;34m\u001b[0m\u001b[0;34m\u001b[0m\u001b[0m\n\u001b[0m\u001b[1;32m   2810\u001b[0m         \u001b[0mexclusive_fp\u001b[0m \u001b[0;34m=\u001b[0m \u001b[0;32mTrue\u001b[0m\u001b[0;34m\u001b[0m\u001b[0;34m\u001b[0m\u001b[0m\n\u001b[1;32m   2811\u001b[0m \u001b[0;34m\u001b[0m\u001b[0m\n",
      "\u001b[0;31mFileNotFoundError\u001b[0m: [Errno 2] No such file or directory: '../samples/pika.jpg'"
     ]
    }
   ],
   "source": [
    "img=Image.open(fname)\n",
    "cols=[\"r\",\"g\",\"b\"]\n",
    "img_df,x,y=img2df(img)\n",
    "if flag():\n",
    "    img_df=color_grouping(img_df,N_cols)    \n",
    "    col_df=coltable(img_df,N_cols)\n",
    "    hex_ori_df=rgbdf2hexdf(col_df)\n",
    "else :\n",
    "    decopri(\"color_grouping skipped\")"
   ]
  },
  {
   "cell_type": "code",
   "execution_count": 212,
   "metadata": {},
   "outputs": [
    {
     "ename": "NameError",
     "evalue": "name 'hex_ori_df' is not defined",
     "output_type": "error",
     "traceback": [
      "\u001b[0;31m---------------------------------------------------------------------------\u001b[0m",
      "\u001b[0;31mNameError\u001b[0m                                 Traceback (most recent call last)",
      "\u001b[0;32m<ipython-input-212-cc022d760e25>\u001b[0m in \u001b[0;36m<module>\u001b[0;34m\u001b[0m\n\u001b[1;32m     15\u001b[0m \u001b[0;34m\u001b[0m\u001b[0m\n\u001b[1;32m     16\u001b[0m \u001b[0max3\u001b[0m\u001b[0;34m=\u001b[0m\u001b[0mfig\u001b[0m\u001b[0;34m.\u001b[0m\u001b[0madd_subplot\u001b[0m\u001b[0;34m(\u001b[0m\u001b[0mX\u001b[0m\u001b[0;34m,\u001b[0m \u001b[0mY\u001b[0m\u001b[0;34m,\u001b[0m \u001b[0;36m3\u001b[0m\u001b[0;34m)\u001b[0m\u001b[0;34m\u001b[0m\u001b[0;34m\u001b[0m\u001b[0m\n\u001b[0;32m---> 17\u001b[0;31m \u001b[0mtbl\u001b[0m \u001b[0;34m=\u001b[0m \u001b[0max3\u001b[0m\u001b[0;34m.\u001b[0m\u001b[0mtable\u001b[0m\u001b[0;34m(\u001b[0m\u001b[0mcellText\u001b[0m\u001b[0;34m=\u001b[0m\u001b[0mhex_ori_df\u001b[0m\u001b[0;34m.\u001b[0m\u001b[0mvalues\u001b[0m\u001b[0;34m,\u001b[0m\u001b[0mbbox\u001b[0m\u001b[0;34m=\u001b[0m\u001b[0;34m[\u001b[0m\u001b[0;36m0\u001b[0m\u001b[0;34m,\u001b[0m\u001b[0;36m0\u001b[0m\u001b[0;34m,\u001b[0m\u001b[0;36m1\u001b[0m\u001b[0;34m,\u001b[0m\u001b[0;36m1\u001b[0m\u001b[0;34m]\u001b[0m\u001b[0;34m,\u001b[0m\u001b[0mcolLabels\u001b[0m\u001b[0;34m=\u001b[0m\u001b[0;32mNone\u001b[0m\u001b[0;34m,\u001b[0m\u001b[0mrowLabels\u001b[0m\u001b[0;34m=\u001b[0m\u001b[0;32mNone\u001b[0m\u001b[0;34m,\u001b[0m  \u001b[0mcellColours\u001b[0m\u001b[0;34m=\u001b[0m\u001b[0mhex_ori_df\u001b[0m\u001b[0;34m.\u001b[0m\u001b[0mvalues\u001b[0m\u001b[0;34m)\u001b[0m\u001b[0;34m\u001b[0m\u001b[0;34m\u001b[0m\u001b[0m\n\u001b[0m\u001b[1;32m     18\u001b[0m \u001b[0max3\u001b[0m\u001b[0;34m.\u001b[0m\u001b[0maxis\u001b[0m\u001b[0;34m(\u001b[0m\u001b[0;34m'off'\u001b[0m\u001b[0;34m)\u001b[0m\u001b[0;34m\u001b[0m\u001b[0;34m\u001b[0m\u001b[0m\n\u001b[1;32m     19\u001b[0m \u001b[0;34m\u001b[0m\u001b[0m\n",
      "\u001b[0;31mNameError\u001b[0m: name 'hex_ori_df' is not defined"
     ]
    },
    {
     "data": {
      "image/png": "[encoded data removed]",
      "text/plain": [
       "<Figure size 432x288 with 2 Axes>"
      ]
     },
     "metadata": {
      "needs_background": "light"
     },
     "output_type": "display_data"
    }
   ],
   "source": [
    "fig = plt.figure()\n",
    "\n",
    "#flg全体をX*Yに分割し、plot位置に画像を配置する。\n",
    "X = 2\n",
    "Y = 2\n",
    "\n",
    "\n",
    "#imgの表示\n",
    "imgplot = 1\n",
    "ax1 = fig.add_subplot(X, Y, 1)\n",
    "#タイトルの設定\n",
    "ax1.set_title(\"original img\",fontsize=20)\n",
    "ax1.axis('off')\n",
    "plt.imshow(np.array(img))\n",
    "\n",
    "ax3=fig.add_subplot(X, Y, 3)\n",
    "tbl = ax3.table(cellText=hex_ori_df.values,bbox=[0,0,1,1],colLabels=None,rowLabels=None,  cellColours=hex_ori_df.values)\n",
    "ax3.axis('off')\n",
    "\n",
    "img2plot =  2\n",
    "ax2 = fig.add_subplot(X, Y, img2plot)\n",
    "ax2.axis('off')\n",
    "ax2.set_title(\"edit img\",fontsize=20)\n",
    "\n",
    "plt.imshow(np.array(img))\n",
    "plt.show() #なくても表示された。"
   ]
  },
  {
   "cell_type": "code",
   "execution_count": null,
   "metadata": {},
   "outputs": [],
   "source": []
  }
 ],
 "metadata": {
  "kernelspec": {
   "display_name": "Python 3",
   "language": "python",
   "name": "python3"
  },
  "language_info": {
   "codemirror_mode": {
    "name": "ipython",
    "version": 3
   },
   "file_extension": ".py",
   "mimetype": "text/x-python",
   "name": "python",
   "nbconvert_exporter": "python",
   "pygments_lexer": "ipython3",
   "version": "3.7.6"
  }
 },
 "nbformat": 4,
 "nbformat_minor": 4
}
